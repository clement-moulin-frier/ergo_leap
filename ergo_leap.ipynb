{
 "metadata": {
  "name": "",
  "signature": "sha256:2f65a6d6ad240d256565f5162b064f49a503e18ab143a8bfbff6a5bbebf50cdd"
 },
 "nbformat": 3,
 "nbformat_minor": 0,
 "worksheets": [
  {
   "cells": [
    {
     "cell_type": "heading",
     "level": 1,
     "metadata": {},
     "source": [
      "Controlling an Ergo-Robot with the Leap Motion"
     ]
    },
    {
     "cell_type": "markdown",
     "metadata": {},
     "source": [
      "To run this code you will need to:\n",
      "* An [Ergo-robot](http://poppy-project.github.io/pypot/quickstart.html) and a proper installation of the [Pypot library](http://poppy-project.github.io/pypot/).\n",
      "* A [Leap Motion] and a proper installation of the [Leap Motion SDK](https://developer.leapmotion.com/) (we will use the Python API)."
     ]
    },
    {
     "cell_type": "heading",
     "level": 2,
     "metadata": {},
     "source": [
      "Connect to the Leap Motion and calibrate"
     ]
    },
    {
     "cell_type": "code",
     "collapsed": false,
     "input": [
      "import Leap"
     ],
     "language": "python",
     "metadata": {},
     "outputs": [],
     "prompt_number": 1
    },
    {
     "cell_type": "code",
     "collapsed": false,
     "input": [
      "from leap_listener import SampleListener"
     ],
     "language": "python",
     "metadata": {},
     "outputs": [],
     "prompt_number": 3
    },
    {
     "cell_type": "code",
     "collapsed": false,
     "input": [
      "# import sys\n",
      "\n",
      "listener = SampleListener()\n",
      "controller = Leap.Controller()\n",
      "\n",
      "# Have the sample listener receive events from the controller\n",
      "controller.add_listener(listener)"
     ],
     "language": "python",
     "metadata": {},
     "outputs": [
      {
       "output_type": "stream",
       "stream": "stdout",
       "text": [
        "Initialized\n"
       ]
      },
      {
       "metadata": {},
       "output_type": "pyout",
       "prompt_number": 4,
       "text": [
        "True"
       ]
      }
     ],
     "prompt_number": 4
    },
    {
     "cell_type": "heading",
     "level": 3,
     "metadata": {},
     "source": [
      "Calibration part"
     ]
    },
    {
     "cell_type": "markdown",
     "metadata": {},
     "source": [
      "Run the cell below and move your hand above the Leap Motion during 5 seconds for calibration. You have to cover the range of 3D hand position you want to use in order to control the robot."
     ]
    },
    {
     "cell_type": "code",
     "collapsed": false,
     "input": [
      "values = []\n",
      "import time\n",
      "for _ in range(1000):\n",
      "    values.append(listener.hand_coord)\n",
      "    time.sleep(0.005)"
     ],
     "language": "python",
     "metadata": {},
     "outputs": [
      {
       "output_type": "stream",
       "stream": "stdout",
       "text": [
        "Connected\n"
       ]
      }
     ],
     "prompt_number": 5
    },
    {
     "cell_type": "code",
     "collapsed": false,
     "input": [
      "from numpy import array\n",
      "values = array(values)"
     ],
     "language": "python",
     "metadata": {},
     "outputs": [],
     "prompt_number": 6
    },
    {
     "cell_type": "code",
     "collapsed": false,
     "input": [
      "from numpy import min, max\n",
      "mins = min(values, axis=0)\n",
      "maxs = max(values, axis=0)\n",
      "print mins, maxs"
     ],
     "language": "python",
     "metadata": {},
     "outputs": [
      {
       "output_type": "stream",
       "stream": "stdout",
       "text": [
        "[-197.75019836   72.81723785 -110.87555695] [ 158.55618286  452.26123047  150.54743958]\n"
       ]
      }
     ],
     "prompt_number": 7
    },
    {
     "cell_type": "heading",
     "level": 2,
     "metadata": {},
     "source": [
      "Connect to the Ergo-Robot"
     ]
    },
    {
     "cell_type": "markdown",
     "metadata": {},
     "source": [
      "The code below use the 'ergo.json' configuration file. Please check if it is compatible with your robot version."
     ]
    },
    {
     "cell_type": "code",
     "collapsed": false,
     "input": [
      "from pypot.robot import from_json\n",
      "\n",
      "ergo = from_json('ergo.json')\n",
      "ergo.start_sync()"
     ],
     "language": "python",
     "metadata": {},
     "outputs": [],
     "prompt_number": 8
    },
    {
     "cell_type": "markdown",
     "metadata": {},
     "source": [
      "Limit moving speed and torque limit to avoid a dispute with your robot:"
     ]
    },
    {
     "cell_type": "code",
     "collapsed": false,
     "input": [
      "for m in ergo.motors:\n",
      "    m.moving_speed = 80\n",
      "ergo.compliant = False\n",
      "\n",
      "for m in ergo.motors:\n",
      "    m.torque_limit = 80\n",
      "    "
     ],
     "language": "python",
     "metadata": {},
     "outputs": [],
     "prompt_number": 9
    },
    {
     "cell_type": "markdown",
     "metadata": {},
     "source": [
      "**WARNING**: The code code below will move the robot to a neutral position:"
     ]
    },
    {
     "cell_type": "code",
     "collapsed": false,
     "input": [
      "for m in ergo.motors:\n",
      "    m.goal_position = 0"
     ],
     "language": "python",
     "metadata": {},
     "outputs": [],
     "prompt_number": 10
    },
    {
     "cell_type": "markdown",
     "metadata": {},
     "source": [
      "Create a Pypot primitive to link Leap Motion tracking to robot movements:"
     ]
    },
    {
     "cell_type": "code",
     "collapsed": false,
     "input": [
      "from pypot.primitive import LoopPrimitive\n",
      "#from IPython.display import display, clear_output\n",
      "\n",
      "\n",
      "class LeapPrimitive(LoopPrimitive):\n",
      "\n",
      "    \"\"\" Apply a sinus on the motor specified as argument. Parameters (amp, offset and phase) should be specified in degree\n",
      "    \"\"\"\n",
      "\n",
      "    def __init__(self, robot, refresh_freq, leap_listener):\n",
      "\n",
      "        LoopPrimitive.__init__(self, robot, refresh_freq)\n",
      "        self.leap_listener = leap_listener\n",
      "\n",
      "    def update(self):\n",
      "        \"\"\" Compute the sin(t) where t is the elapsed time since the primitive has been started. \"\"\"\n",
      "        try:\n",
      "            hand_coord = self.leap_listener.hand_coord\n",
      "            # hand_coord = self.leap_listener.hand_coord_norm\n",
      "            grip_size = self.leap_listener.grip_size\n",
      "            for i in range(3):\n",
      "                pos = (hand_coord[i] - mins[i]) / (maxs[i] - mins[i])\n",
      "                # pos = hand_coord[i]\n",
      "                if i == 1:\n",
      "                    pos = 1 - pos\n",
      "                pos -= 0.5\n",
      "                pos /= 4\n",
      "                pos += 0.5\n",
      "                if i == 2:\n",
      "                    motor = self.robot.base[-1]\n",
      "                else:\n",
      "                    motor = self.robot.head[i]\n",
      "                pos = pos * (motor.angle_limit[1] - motor.angle_limit[0]) + motor.angle_limit[0]\n",
      "\n",
      "                motor.goal_position = pos\n",
      "            motor = self.robot.gripper\n",
      "            self.robot.gripper.goal_position = grip_size * (motor.angle_limit[1] - motor.angle_limit[0]) + motor.angle_limit[0]\n",
      "     \n",
      "        except:\n",
      "            return        \n",
      "\n",
      "       "
     ],
     "language": "python",
     "metadata": {},
     "outputs": []
    },
    {
     "cell_type": "markdown",
     "metadata": {},
     "source": [
      "Attach the primitive to your robot and run it:"
     ]
    },
    {
     "cell_type": "code",
     "collapsed": false,
     "input": [
      "     \n",
      "prim = LeapPrimitive(ergo, 50, listener)\n",
      "ergo.attach_primitive(prim, 'leap')\n",
      "ergo.leap.start()    "
     ],
     "language": "python",
     "metadata": {},
     "outputs": [],
     "prompt_number": 11
    },
    {
     "cell_type": "heading",
     "level": 2,
     "metadata": {},
     "source": [
      "Let's play!"
     ]
    },
    {
     "cell_type": "markdown",
     "metadata": {},
     "source": [
      "Now you can move your hand above the Leap Motion and control your robot in this way. You can for example try to grasp a plastic glass with it (only "
     ]
    }
   ],
   "metadata": {}
  }
 ]
}